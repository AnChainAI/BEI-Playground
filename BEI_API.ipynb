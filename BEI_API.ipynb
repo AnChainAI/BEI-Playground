{
  "nbformat": 4,
  "nbformat_minor": 0,
  "metadata": {
    "colab": {
      "name": "BEI API.ipynb",
      "provenance": [],
      "collapsed_sections": []
    },
    "kernelspec": {
      "name": "python3",
      "display_name": "Python 3"
    }
  },
  "cells": [
    {
      "cell_type": "markdown",
      "metadata": {
        "id": "LubZuZkte0M6",
        "colab_type": "text"
      },
      "source": [
        "# BEI API Demo\n",
        "The API documentation can be found here: \n",
        "https://bei.anchainai.com/api/doc"
      ]
    },
    {
      "cell_type": "code",
      "metadata": {
        "id": "HHm6idI9yfkB",
        "colab_type": "code",
        "colab": {}
      },
      "source": [
        "import requests\n",
        "import pprint"
      ],
      "execution_count": 1,
      "outputs": []
    },
    {
      "cell_type": "markdown",
      "metadata": {
        "id": "3Q5Fo6bEg7aX",
        "colab_type": "text"
      },
      "source": [
        "# Methods:\n",
        "The BEI API has 3 main methods: \n",
        "- address_info: get address category label and entity name. \n",
        "- address_risk_info: get address category label, entity name, risk score and risk level.\n",
        "- address_risk_score: get address detailed information with risk score. \n",
        "\n"
      ]
    },
    {
      "cell_type": "code",
      "metadata": {
        "id": "pKj_tVVN0K24",
        "colab_type": "code",
        "colab": {}
      },
      "source": [
        "api_key = 'your-api-key-here' #you can obtain it at https://www.anchain.ai/blockchain-ecosystem-intelligence"
      ],
      "execution_count": 2,
      "outputs": []
    },
    {
      "cell_type": "markdown",
      "metadata": {
        "id": "tqOttMc84hNk",
        "colab_type": "text"
      },
      "source": [
        "# Method 1"
      ]
    },
    {
      "cell_type": "code",
      "metadata": {
        "id": "TISS0yi74nCE",
        "colab_type": "code",
        "colab": {
          "base_uri": "https://localhost:8080/",
          "height": 181
        },
        "outputId": "a6ea48f7-d18f-455f-f649-362299cd80f0"
      },
      "source": [
        "address = '3GqkbsoPuXMKjJcPbTKTtwVEkSKTsRr2du'\n",
        "method = 'address_info'\n",
        "url = 'https://bei.anchainai.com/api/'+method+'?proto=btc&address='+address+'&apikey='+api_key\n",
        "resmain = requests.get(url)\n",
        "info = resmain.json()\n",
        "print(method+':  ')\n",
        "pprint.pprint(info)\n",
        "\n",
        "# To access the dictionary\n",
        "detail = info['data'][address]['self']['detail']\n",
        "print(' ')\n",
        "print('This address belongs to ')\n",
        "print(detail)"
      ],
      "execution_count": 3,
      "outputs": [
        {
          "output_type": "stream",
          "text": [
            "address_info:  \n",
            "{'data': {'3GqkbsoPuXMKjJcPbTKTtwVEkSKTsRr2du': {'is_address_valid': True,\n",
            "                                                 'self': {'category': ['exchange'],\n",
            "                                                          'detail': ['exchange:OKEX']}}},\n",
            " 'err_msg': '',\n",
            " 'status': 200}\n",
            " \n",
            "This address belongs to \n",
            "['exchange:OKEX']\n"
          ],
          "name": "stdout"
        }
      ]
    },
    {
      "cell_type": "markdown",
      "metadata": {
        "id": "lGCV7huk4heZ",
        "colab_type": "text"
      },
      "source": [
        "# Method 2"
      ]
    },
    {
      "cell_type": "code",
      "metadata": {
        "id": "pDoR5Nop4rbl",
        "colab_type": "code",
        "colab": {
          "base_uri": "https://localhost:8080/",
          "height": 490
        },
        "outputId": "bd8a30ba-1e52-42ee-df98-61f3397eab83"
      },
      "source": [
        "method = 'address_risk_info'\n",
        "url = 'https://bei.anchainai.com/api/'+method+'?proto=btc&address='+address+'&apikey='+api_key\n",
        "resmain = requests.get(url)\n",
        "info = resmain.json()\n",
        "print(method+':  ')\n",
        "pprint.pprint(info)\n",
        "\n",
        "# To access the dictionary\n",
        "detail = info['data'][address]['self']['detail']\n",
        "risk = info['data'][address]['risk']['score']\n",
        "print(' ')\n",
        "print('This address belongs to ')\n",
        "print(detail)\n",
        "print('which has a risk score of ' + str(risk))"
      ],
      "execution_count": 4,
      "outputs": [
        {
          "output_type": "stream",
          "text": [
            "address_risk_info:  \n",
            "{'data': {'3GqkbsoPuXMKjJcPbTKTtwVEkSKTsRr2du': {'activity': {'suspicious_activity': [],\n",
            "                                                              'suspicious_activity_declare': 'Suspicious '\n",
            "                                                                                             'Activity '\n",
            "                                                                                             'is '\n",
            "                                                                                             'summarized '\n",
            "                                                                                             'based '\n",
            "                                                                                             'on '\n",
            "                                                                                             'all '\n",
            "                                                                                             'historical '\n",
            "                                                                                             'transaction',\n",
            "                                                              'verdict_time': 1597422385},\n",
            "                                                 'is_address_valid': True,\n",
            "                                                 'risk': {'entity_level': 1,\n",
            "                                                          'entity_score': 15,\n",
            "                                                          'level': 1,\n",
            "                                                          'score': 15,\n",
            "                                                          'verdict_time': 1597422385},\n",
            "                                                 'self': {'category': ['exchange'],\n",
            "                                                          'detail': ['exchange:OKEX']}}},\n",
            " 'err_msg': '',\n",
            " 'status': 200}\n",
            " \n",
            "This address belongs to \n",
            "['exchange:OKEX']\n",
            "which has a risk score of 15\n"
          ],
          "name": "stdout"
        }
      ]
    },
    {
      "cell_type": "markdown",
      "metadata": {
        "id": "5Z6H6wVQ4ho_",
        "colab_type": "text"
      },
      "source": [
        "# Method 3"
      ]
    },
    {
      "cell_type": "code",
      "metadata": {
        "id": "wZVm8TaW4ujG",
        "colab_type": "code",
        "colab": {
          "base_uri": "https://localhost:8080/",
          "height": 290
        },
        "outputId": "7999b467-8709-4de4-8f67-eb7223c4a3c6"
      },
      "source": [
        "address = '3GqkbsoPuXMKjJcPbTKTtwVEkSKTsRr2du'\n",
        "method = 'address_risk_score'\n",
        "url = 'https://bei.anchainai.com/api/'+method+'?proto=btc&address='+address+'&apikey='+api_key\n",
        "resmain = requests.get(url)\n",
        "info = resmain.json()\n",
        "print(method+':  ')\n",
        "pprint.pprint(info)\n",
        "\n",
        "# To access the dictionary\n",
        "detail = info['data'][address]['self']['detail']\n",
        "risk = info['data'][address]['risk']['score']\n",
        "print(' ')\n",
        "print('This address belongs to ')\n",
        "print(detail)\n",
        "print('which has a risk score of ' + str(risk))"
      ],
      "execution_count": 5,
      "outputs": [
        {
          "output_type": "stream",
          "text": [
            "address_risk_score:  \n",
            "{'data': {'3GqkbsoPuXMKjJcPbTKTtwVEkSKTsRr2du': {'is_address_valid': True,\n",
            "                                                 'risk': {'entity_level': 1,\n",
            "                                                          'entity_score': 15,\n",
            "                                                          'level': 1,\n",
            "                                                          'score': 15,\n",
            "                                                          'verdict_time': 1597422386},\n",
            "                                                 'self': {'category': ['exchange'],\n",
            "                                                          'detail': ['exchange:OKEX']}}},\n",
            " 'err_msg': '',\n",
            " 'status': 200}\n",
            " \n",
            "This address belongs to \n",
            "['exchange:OKEX']\n",
            "which has a risk score of 15\n"
          ],
          "name": "stdout"
        }
      ]
    },
    {
      "cell_type": "markdown",
      "metadata": {
        "id": "Vs4Ds2f94i83",
        "colab_type": "text"
      },
      "source": [
        "# Aggregation"
      ]
    },
    {
      "cell_type": "code",
      "metadata": {
        "id": "N6lA6tasy7Ni",
        "colab_type": "code",
        "colab": {
          "base_uri": "https://localhost:8080/",
          "height": 637
        },
        "outputId": "57c9cdd6-4c64-41d2-e7d9-4ef62ca54a99"
      },
      "source": [
        "addresses = ['bc1qxy2kgdygjrsqtzq2n0yrf2493p83kkfjhx0wlh', '3GqkbsoPuXMKjJcPbTKTtwVEkSKTsRr2du', '12t9YDPgwueZ9NyMgw519p7AA8isjr6SMw']\n",
        "\n",
        "method = ['address_info', 'address_risk_info', 'address_risk_score']\n",
        "for address in addresses:\n",
        "  print(address+':')\n",
        "  print(' ')\n",
        "  for i in method:\n",
        "      url = 'https://bei.anchainai.com/api/'+i+'?proto=btc&address='+address+'&apikey='+api_key\n",
        "      resmain = requests.get(url)\n",
        "      info = resmain.json()\n",
        "      print(i+':  ')\n",
        "      print(info)\n",
        "      print('   ')"
      ],
      "execution_count": 6,
      "outputs": [
        {
          "output_type": "stream",
          "text": [
            "bc1qxy2kgdygjrsqtzq2n0yrf2493p83kkfjhx0wlh:\n",
            " \n",
            "address_info:  \n",
            "{'data': {'bc1qxy2kgdygjrsqtzq2n0yrf2493p83kkfjhx0wlh': {'is_address_valid': True, 'self': {'category': ['scam'], 'detail': ['scam:CryptoForHealth scam']}}}, 'err_msg': '', 'status': 200}\n",
            "   \n",
            "address_risk_info:  \n",
            "{'data': {'bc1qxy2kgdygjrsqtzq2n0yrf2493p83kkfjhx0wlh': {'activity': {'suspicious_activity': [{'aggr_type': 'entity', 'category': 'unaffiliated', 'description': 'Received money from unaffiliated:unaffiliated wallet(s) 97 times', 'entity': 'unaffiliated', 'txn_cnt': 97, 'txn_direct': 1, 'txn_hashes': ['cd256a87345a074b72d9c968395c881b6551c534eff7b5033bf27f240089087c', 'e3208f75a170e1f32e6303cba9c154faead62e07d53f6e246ff8e46a0a34b6ec', '0b449895fa187330838ae0a9e0863fc4bcf59a8def5d6091796b2f81d4183e43', 'f6d8dd99c1affe69738664b90d3a36c00fde9fa989c9f66e3d93d33c53a85eb0', 'bf73522090d9b4a0d8234b5b4b5acd6365cc630dd42729c7289fd9234c4b60d3', '7c2f3b99b7d7cc5678c6e5ca48a8bdd075096fefb4ab6149bdab33ec85707cd8', '6e30fb324189e6129820db187a3fdf29641b2b31658001d0bb2c7ab3f7deb032', '67b814526ae6ee78a16059bfcfc06ed7768c92c58f3409367cb180627631ddbe', 'cdb233a64fc4fd3ab1071398f81f9f775bb877619d9b58d8604fb8368808461f', '3b8880a29abe32e24f6738c65cfc9f5dad63f3a6a1f55466899b7885af25125f'], 'txn_vol': 0.00133232}, {'aggr_type': 'entity', 'category': 'exchange', 'description': 'Received money from exchange:Binance wallet(s) 3 times', 'entity': 'Binance', 'txn_cnt': 3, 'txn_direct': 1, 'txn_hashes': ['647fa1642718a29f96c58a658391f18ad8467c8a2273662da44b18c7b18545c8', 'adf15930bf0b903c77b82d056e97b42b06a265a2262989f95ff8e2f5a352cc5e', 'c58fa3c5a0a348273f09960308e8d2dacbab484af19743590f7014d4f4f12c9d'], 'txn_vol': 320.55053019}, {'aggr_type': 'entity', 'category': 'exchange', 'description': 'Received money from exchange:Xapo wallet(s) 1 time', 'entity': 'Xapo', 'txn_cnt': 1, 'txn_direct': 1, 'txn_hashes': ['53dc893626d9c9b53c147c6cced7ee8ee55916f9fa1d378a629ce18c8bb34594'], 'txn_vol': 0.04290297}, {'aggr_type': 'entity', 'category': 'exchange', 'description': 'Received money from exchange:Bitflyer wallet(s) 1 time', 'entity': 'Bitflyer', 'txn_cnt': 1, 'txn_direct': 1, 'txn_hashes': ['653ea4e999e3410a7d8e8ff13501375b4e9b4031c04da884518038c7fae92b8b'], 'txn_vol': 1.71413071}, {'aggr_type': 'entity', 'category': 'exchange', 'description': 'Sent money to exchange:Kraken wallet(s) 1 time', 'entity': 'Kraken', 'txn_cnt': 1, 'txn_direct': 0, 'txn_hashes': ['6e9d144badb0449723c9f5bd5c03b7584b16c69490919d56da29d84931b177d9'], 'txn_vol': 0.00181706}, {'aggr_type': 'entity', 'category': 'unaffiliated', 'description': 'Sent money to unaffiliated:unaffiliated wallet(s) 9 times', 'entity': 'unaffiliated', 'txn_cnt': 9, 'txn_direct': 0, 'txn_hashes': ['45ee84e6b43c3fff796aa5d1686f7bdf1ae91d57650f106e5f025bbcde26d87c', '14e1176296633cf3feab2df4d832c1c906ff6278e6444f61c5aa827bdfde34c3', '879a0b0fc037ef9de77a09ac1ec3128491db78563e7668cafef8c0234efde573', '6e9d144badb0449723c9f5bd5c03b7584b16c69490919d56da29d84931b177d9', 'd3ed76029bdf9cbfec9ae9634850fcf770cfa968a8423c24bd12f7fde8377bcb', 'a5ad498d6ab8641af23f74a1a6f6c82b89c8a00cbe465a8ac8febbc8a9478f25', '4637df8554fb46316e9cbf3bf081d0c4b5e348697e8218525b789dfe10678744', 'e24e11c0ddbbd74947b01f784a688a7dd5fefe257a38736004bafe38c1e2a97f', '8c9991d279ceb7724f7fbd3759fc3a76dd8892288dce5c6bd994da68ffa1a758'], 'txn_vol': 0.00063553}], 'suspicious_activity_declare': 'Suspicious Activity is summarized based on most recent 2000 suspicious transactions', 'verdict_time': 1597422387}, 'is_address_valid': True, 'risk': {'level': 4, 'score': 100, 'verdict_time': 1597422387}, 'self': {'category': ['scam'], 'detail': ['scam:CryptoForHealth scam']}}}, 'err_msg': '', 'status': 200}\n",
            "   \n",
            "address_risk_score:  \n",
            "{'data': {'bc1qxy2kgdygjrsqtzq2n0yrf2493p83kkfjhx0wlh': {'is_address_valid': True, 'risk': {'level': 4, 'score': 100, 'verdict_time': 1597420831}, 'self': {'category': ['scam'], 'detail': ['scam:CryptoForHealth scam']}}}, 'err_msg': '', 'status': 200}\n",
            "   \n",
            "3GqkbsoPuXMKjJcPbTKTtwVEkSKTsRr2du:\n",
            " \n",
            "address_info:  \n",
            "{'data': {'3GqkbsoPuXMKjJcPbTKTtwVEkSKTsRr2du': {'is_address_valid': True, 'self': {'category': ['exchange'], 'detail': ['exchange:OKEX']}}}, 'err_msg': '', 'status': 200}\n",
            "   \n",
            "address_risk_info:  \n",
            "{'data': {'3GqkbsoPuXMKjJcPbTKTtwVEkSKTsRr2du': {'activity': {'suspicious_activity': [], 'suspicious_activity_declare': 'Suspicious Activity is summarized based on all historical transaction', 'verdict_time': 1597422385}, 'is_address_valid': True, 'risk': {'entity_level': 1, 'entity_score': 15, 'level': 1, 'score': 15, 'verdict_time': 1597422385}, 'self': {'category': ['exchange'], 'detail': ['exchange:OKEX']}}}, 'err_msg': '', 'status': 200}\n",
            "   \n",
            "address_risk_score:  \n",
            "{'data': {'3GqkbsoPuXMKjJcPbTKTtwVEkSKTsRr2du': {'is_address_valid': True, 'risk': {'entity_level': 1, 'entity_score': 15, 'level': 1, 'score': 15, 'verdict_time': 1597422386}, 'self': {'category': ['exchange'], 'detail': ['exchange:OKEX']}}}, 'err_msg': '', 'status': 200}\n",
            "   \n",
            "12t9YDPgwueZ9NyMgw519p7AA8isjr6SMw:\n",
            " \n",
            "address_info:  \n",
            "{'data': {'12t9YDPgwueZ9NyMgw519p7AA8isjr6SMw': {'is_address_valid': True, 'self': {'category': ['abuse', 'ransomware'], 'detail': ['ransomware:WannaCry']}}}, 'err_msg': '', 'status': 200}\n",
            "   \n",
            "address_risk_info:  \n",
            "{'data': {'12t9YDPgwueZ9NyMgw519p7AA8isjr6SMw': {'activity': {'suspicious_activity': [{'aggr_type': 'entity', 'category': 'unaffiliated', 'description': 'Received money from unaffiliated:unaffiliated wallet(s) 193 times', 'entity': 'unaffiliated', 'txn_cnt': 193, 'txn_direct': 1, 'txn_hashes': ['1d5b155f81ad7d4dba84f7a87c42e6904b3ba4e65fe7ab92e8324cd9833b4a31', 'ccd3de0f4762741b7124d32ef59f29d6adc3561fd1499c24243316ee2054d833', 'f37bf1e3f25816d5ff077e9c784c7e7b05c5639e2b1af01cbc85ac6a3c2d8fd9', '4ff768fe153d6f35e0c75dc079fb75054b81759c6229b2819e488aea5b7c8fec', '5e9d8de563ebb6111eeaa869ee523de755f6284c1200751fe2ddf88e4af6ba15', 'c646a9ca134da79a84deb43e40799f6acdd2e051a674d9574bbf3d641dfcefca', '0d4be088c33c75721b2769e2c2ef24730f32b70a2656a49902370f0e029ebd4a', '98723f9305c68a3b428b63a55404d2a9cfbcdbd36a20c81b697db2aa28975c88', 'f9eae8ca86358170435f0f9d8417f266b02294c66f2fa2a125f636b730c72838', 'aaa76683d8795fcfac068eb8e9d547bf3f5eb5cbfd96d030276797f493b72a89'], 'txn_vol': 0.01284002}, {'aggr_type': 'entity', 'category': 'exchange', 'description': 'Received money from exchange:Coinbase wallet(s) 1 time', 'entity': 'Coinbase', 'txn_cnt': 1, 'txn_direct': 1, 'txn_hashes': ['498719f8864ff75d67a4bb36ce0c65907e5d2449a73d01d9b90207ab198232e0'], 'txn_vol': 0.051669}, {'aggr_type': 'entity', 'category': 'exchange', 'description': 'Received money from exchange:Zaif wallet(s) 1 time', 'entity': 'Zaif', 'txn_cnt': 1, 'txn_direct': 1, 'txn_hashes': ['a3b15590878dc216c7c5b9b5bc109a1e07caab93928920b4bb5b82a7e98266f0'], 'txn_vol': 0.01290216}, {'aggr_type': 'entity', 'category': 'unaffiliated', 'description': 'Sent money to unaffiliated:unaffiliated wallet(s) 2 times', 'entity': 'unaffiliated', 'txn_cnt': 2, 'txn_direct': 0, 'txn_hashes': ['35e5d5fe8c8128cfa6884f56be5817e4138c58c91b79d78d3e78a8d365b9d8a7', '409803bb5e124fd028c0482027c7722e84ce55b78204b279d3a44aba5e7c1698'], 'txn_vol': 9.02796322}], 'suspicious_activity_declare': 'Suspicious Activity is summarized based on most recent 2000 suspicious transactions', 'verdict_time': 1597422389}, 'is_address_valid': True, 'risk': {'level': 4, 'score': 100, 'verdict_time': 1597422389}, 'self': {'category': ['abuse', 'ransomware'], 'detail': ['ransomware:WannaCry']}}}, 'err_msg': '', 'status': 200}\n",
            "   \n",
            "address_risk_score:  \n",
            "{'data': {'12t9YDPgwueZ9NyMgw519p7AA8isjr6SMw': {'is_address_valid': True, 'risk': {'level': 4, 'score': 100, 'verdict_time': 1597422390}, 'self': {'category': ['abuse', 'ransomware'], 'detail': ['ransomware:WannaCry']}}}, 'err_msg': '', 'status': 200}\n",
            "   \n"
          ],
          "name": "stdout"
        }
      ]
    },
    {
      "cell_type": "markdown",
      "metadata": {
        "id": "ByYQ8XHX87h2",
        "colab_type": "text"
      },
      "source": [
        "# Use cases"
      ]
    },
    {
      "cell_type": "markdown",
      "metadata": {
        "id": "-VKpYrg89ZHn",
        "colab_type": "text"
      },
      "source": [
        "## Stop the transaction if the receiver is high risk"
      ]
    },
    {
      "cell_type": "code",
      "metadata": {
        "id": "zyzLEukl9McZ",
        "colab_type": "code",
        "colab": {
          "base_uri": "https://localhost:8080/",
          "height": 90
        },
        "outputId": "3fcc88ae-96bf-4fc2-f89f-dab128cd1699"
      },
      "source": [
        "sender = '3GqkbsoPuXMKjJcPbTKTtwVEkSKTsRr2du' #OKEX\n",
        "receiver = '12t9YDPgwueZ9NyMgw519p7AA8isjr6SMw' #Ransomware WannaCry\n",
        "\n",
        "def get_risk(address):\n",
        "  method = 'address_risk_info'\n",
        "  url = 'https://bei.anchainai.com/api/'+method+'?proto=btc&address='+address+'&apikey='+api_key\n",
        "  resmain = requests.get(url)\n",
        "  info = resmain.json()\n",
        "  detail = info['data'][address]['self']['detail']\n",
        "  risk = info['data'][address]['risk']['score']\n",
        "  return detail, risk\n",
        "\n",
        "detail, risk = get_risk(receiver)\n",
        "if risk > 50: \n",
        "  print('Do not transact, the receiver is a high-risk address.')\n",
        "  print('You are trying to transact with ')\n",
        "  print(detail)\n",
        "  print('which has a risk score of ' + str(risk))\n",
        "else: \n",
        "  print('Receiver is not risky')\n"
      ],
      "execution_count": 7,
      "outputs": [
        {
          "output_type": "stream",
          "text": [
            "Do not transact, the receiver is a high-risk address.\n",
            "You are trying to transact with \n",
            "['ransomware:WannaCry']\n",
            "which has a risk score of 100\n"
          ],
          "name": "stdout"
        }
      ]
    },
    {
      "cell_type": "markdown",
      "metadata": {
        "id": "HPrYsVn59ggz",
        "colab_type": "text"
      },
      "source": [
        "## Alert the receiver if the sender is high risk"
      ]
    },
    {
      "cell_type": "code",
      "metadata": {
        "id": "vVnv_BZZ9god",
        "colab_type": "code",
        "colab": {
          "base_uri": "https://localhost:8080/",
          "height": 72
        },
        "outputId": "690301c1-65f7-467f-c4e4-2f83921958db"
      },
      "source": [
        "sender = '12t9YDPgwueZ9NyMgw519p7AA8isjr6SMw' #Ransomware WannaCry\n",
        "receiver = '3GqkbsoPuXMKjJcPbTKTtwVEkSKTsRr2du' #OKEX\n",
        "\n",
        "\n",
        "detail, risk = get_risk(sender)\n",
        "if risk > 50: \n",
        "  print('Alert, you received a transaction from a high-risk address.')\n",
        "  print(detail)\n",
        "  print('which has a risk score of ' + str(risk)+', sent you BTC')\n",
        "\n",
        "else: \n",
        "  print('Sender is not risky')"
      ],
      "execution_count": 8,
      "outputs": [
        {
          "output_type": "stream",
          "text": [
            "Alert, you received a transaction from a high-risk address.\n",
            "['ransomware:WannaCry']\n",
            "which has a risk score of 100, sent you BTC\n"
          ],
          "name": "stdout"
        }
      ]
    }
  ]
}